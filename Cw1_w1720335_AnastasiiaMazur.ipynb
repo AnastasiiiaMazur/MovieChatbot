{
 "cells": [
  {
   "cell_type": "markdown",
   "id": "a6648d40",
   "metadata": {},
   "source": [
    "***\n",
    "# <center>**Applied AI Coursework: Chatbot**\n",
    "     \n",
    "***"
   ]
  },
  {
   "cell_type": "markdown",
   "id": "b7fb9ed4",
   "metadata": {},
   "source": [
    "## **Part A: Application area review**"
   ]
  },
  {
   "cell_type": "markdown",
   "id": "ec66b2ec",
   "metadata": {},
   "source": [
    "AI chatbots are a fascinating advancement in today’s digital industry. They are widely used throughout many companies to assist customers, satisfy their needs, help solve problems and even conduct surveys. Chatbots help us in so many areas: from ordering a pizza, or chatting with “assistant” on some shopping web-sites, to guiding us through a complex sales process. Chatbots are becoming more and more sophisticated that many cannot even recognize them from a real human being and do not realise how much widespread they are. \n",
    "\n",
    "There are many types of chatbots:\n",
    "1. Menu/button-based chatbots\n",
    "Menu/button-based chatbots are the most basic, as the main idea of them is a decision tree hierarchies presented to user in form of buttons. They look like simple automated phone menu, where the user receives a choice of responses for a specific question, and based on this selection, it digs deeper towards the ultimate answer. \n",
    "2. Linguistic Based (Rule-Based Chatbots)\n",
    "Linguistic or rule-based chatbots are based on if/then logic, and can be used if you can predict the types of questions the user may ask. These chatbots demand rigidity and specificity. Firstly, it is required to define the language conditions (to assess the words, the order of the words, synonyms, and more). And if the incoming query matches the defined conditions, then the user will receive an answer to their question. \n",
    "3. Keyword recognition-based chatbots\n",
    "Keyword recognition-based chatbots can listen to what user types and respond appropriately. These chatbots use customizable keywords and an AI application – Natural Language Processing (NLP) to determine how to respond properly to the user. It is quite popular to see chatbot examples that are a hybrid of keyword recognition-based and menu/button-based. These chatbots provide users with the choice to try to ask their questions directly or use the chatbot’s menu buttons if the keyword recognition functionality is failing and return poor results or the user requires some guidance to find their answer.\n",
    "4. Machine Learning chatbots\n",
    "This type of chatbot is far more advanced, as It utilize Machine Learning (ML) and Artificial Intelligence (AI) to remember conversations with users to use it in learning purposes. Unlike keyword recognition-based bots, chatbots that have contextual awareness are smart enough to self-improve based on what users are asking for and how they are asking it.\n",
    "5. The hybrid model\n",
    "The hybrid chatbot model offers the best of both worlds- the simplicity of the rules-based chatbots, with the complexity of the AI-bots.\n",
    "6. Voice bots\n",
    "The main purpose of such type of chatbots is voice recognition in order to ease user experience with different services.\n",
    "\n",
    "Most chatbots are powered by artificial intelligence, or AI. AI chatbots tend to be more useful, purely because they are smarter and can learn over time. Artificial intelligence chatbots are software programs trained to understand spoken or written human language, as well as carry on human-like conversations based on Natural Language Processing (NLP). Natural Language Processing (NLP) consists of Natural Language Generating (NLG – helps to produce human language text responses based on some data input) and Natural Language Understanding (NLU – helps to convert human language into logical form). In other words, AI chatbots can understand human language despite pre-programmed commands and respond using existing data. Natural Language Processing is one of the most fundamental AI techniques for creating chatbots, and also it is a foundation to understanding how AI is being used in chatbots. Essentially it has lots of subfields like linguistic, computer science, information engineering etc., which are concerned with the interactions between computers and human languages.  Moreover, AI chatbots are able to learn from their conversations, which means that over the time, they will be able to adapt their responses to different new situations. Chatbots are essentially computer programs that mimic real human conversation through audio or text.  \n",
    "\n",
    "There are several techniques in natural language processing (NLP) that are commonly used in the development of chatbots:\n",
    "1. Intent Identification: Intent identification is an important component of chatbot design, as it allows the chatbot to understand and respond to user input in a meaningful and appropriate way. It is often achieved using machine learning algorithms that are trained on labelled examples of user input and the corresponding intended meanings, and can be combined with other NLP techniques, such as natural language generation and dialogue management, to create a more sophisticated and interactive chatbot. \n",
    "2. Named Entity Recognition (NER): It is a key technique used in natural language processing (NLP) chatbots. NER involves identifying and labelling specific entities in a piece of text, such as names of people, organizations, and locations. This information can then be used to extract relevant information and understand the context of the text. When creating any conversational chatbot or dialogue system, generative based (is an open-domain chatbot program that generates original combinations of language rather than selecting from pre-defined responses), retrieval based (chatbot is trained to provide the best possible response from a database of predefined responses, the responses are based on existing information) or heuristic based (is designed to solve a problem in a faster and more efficient fashion than traditional methods by sacrificing optimality, accuracy, precision, or completeness for speed) approaches will be used. All of these approaches rely on NER and are used to fulfil communicational tasks.\n",
    "3. Tokenization: This is the process of breaking down a string of text into smaller pieces called tokens, which can be individual words, phrases, or symbols. Tokenization is often used to pre-process text data before it is fed into a machine learning model.\n",
    "4. Part-of-speech (POS) tagging: This is the process of labelling each word in a text with its part of speech (e.g., noun, verb, adjective). POS tagging is useful for understanding the grammatical structure of a sentence and can be used to help generate more natural-sounding responses from a chatbot.\n",
    "5. Stemming and lemmatization: These are techniques for reducing words to their base form, which can be helpful for handling variations of a word (e.g., \"running,\" \"ran,\" \"runs\") and ensuring that words are matched correctly in a database of responses.\n",
    "6. Text classification: This is the process of assigning a label or category to a piece of text based on its content. Text classification can be used to determine the intent of a user's message and select an appropriate response from a pre-defined set of responses.\n",
    "7. Contextual understanding: This refers to a chatbot's ability to understand the context in which a conversation is taking place and use that context to generate more relevant responses. This can be achieved using techniques such as contextual word embeddings and recurrent neural networks (RNNs).\n",
    "\n",
    "The most widely known chatbots: Alexa, Siri, Cortana, and GPT-3 are all examples of artificial intelligence (AI) systems that are designed to understand and respond to human language. Each of these systems has its own unique features and capabilities, and they can be used for a wide range of applications, including voice assistants, language translation, and text generation. Alexa is capable of understanding and responding to voice commands and questions, and can be used to control smart home devices, play music, answer questions, and more. Like Alexa, Siri is capable of understanding and responding to voice commands and questions. Siri can be used to make phone calls, send text messages, set reminders, and perform a wide range of other tasks. Cortana is capable of understanding and responding to voice commands and questions. Cortana can be used to perform a wide range of tasks, including setting reminders, making phone calls, and answering questions. GPT-3 (Generative Pre-training Transformer 3) is a machine learning model developed by OpenAI that is designed to generate human-like text. GPT-3 is trained on a large dataset of text and can be used to generate responses to prompts, complete sentences or paragraphs, or create entire articles or stories."
   ]
  },
  {
   "cell_type": "markdown",
   "id": "167a48b2-1e68-45e3-a547-d2a67ce7b33c",
   "metadata": {},
   "source": [
    "## **Part B: Compare and evaluate three AI techniques**"
   ]
  },
  {
   "cell_type": "markdown",
   "id": "ec9d99b5-d4bd-476c-9246-e36f490d7c8c",
   "metadata": {},
   "source": [
    "In this coursework I will be implementing a chatbot, which will help user to decide which movie to watch. Concerning my project domain, I have chosen three techniques to compare which will be the best option to implement."
   ]
  },
  {
   "cell_type": "markdown",
   "id": "97c7a811-6571-45c9-8a47-f563ffafdee8",
   "metadata": {},
   "source": [
    "### Stemming and lemmatization\n",
    "Stemming and lemmatization are methods in Natural Language Processing (NLP) that stands for reducing the word to its base form. These techniques are useful for tasks such as text classification, information retrieval, and language translation, as they can help reduce the dimensionality of text data and improve the performance of machine learning models. There are lots of ways how to implement those techniques, and the easiest is just by importing NLTK library. \n",
    "\n",
    "Stemming is a process that involves reducing words to their base forms, or stems, by removing prefixes and suffixes. For example, the stem of the word \"jumping\" is \"jump,\" and the stem of the word \"jumps\" is also \"jump.\" Stemming algorithms typically use simple rules or heuristics to identify and remove prefixes and suffixes, and they do not consider the context in which the word appears or its part of speech.\n",
    "\n",
    "Advantages of stemming:\n",
    "1. Faster and simpler: Stemming algorithms typically use simple rules or heuristics to identify and remove prefixes and suffixes, which makes them faster and simpler to implement than lemmatization algorithms.\n",
    "2. Suitable for some tasks: Stemming can be useful for tasks such as information retrieval, where the meaning of words is less important and the focus is on matching word forms.\n",
    "\n",
    "Disadvantages of stemming:\n",
    "1. Loses word meaning: Stemming algorithms do not consider the context in which a word appears or its part of speech, so the resulting stem may not be a valid word with a well-defined meaning.\n",
    "2. May produce non-existent or non-sensical words: Stemming algorithms can produce stems that are not actual words, which can be confusing or misleading.\n",
    "3. May not handle inflections correctly: Stemming algorithms may not handle inflected forms of words correctly, which can result in incorrect stems. For example, the stem of the word \"jumping\" may be \"jump,\" but the stem of the word \"jumps\" may also be \"jump,\" even though \"jumps\" is a different part of speech.\n",
    "\n",
    "Lemmatization, on the other hand, is a more sophisticated process that involves reducing words to their base forms, or lemmas, while taking into account the context in which the word appears and its part of speech. Lemmatization algorithms typically use dictionaries and part-of-speech tags to determine the correct lemma for a given word to avoid producing non-existent words.\n",
    "\n",
    "Advantages of lemmatization:\n",
    "1. Preserves word meaning: Lemmatization reduces words to their base forms while taking into account the context in which the word appears and its part of speech. This means that the resulting lemma is likely to be a valid word with a well-defined meaning.\n",
    "2. Better performance for some tasks: Some NLP tasks, such as sentiment analysis and language translation, rely on the meaning of words and may benefit from the use of lemmatization.\n",
    "\n",
    "Disadvantages of lemmatization:\n",
    "1. More computationally expensive: Lemmatization algorithms typically use dictionaries and part-of-speech tags, which can be computationally expensive to generate.\n",
    "2. Sensitive to errors in part-of-speech tagging: Lemmatization algorithms rely on correct part-of-speech tagging to determine the correct lemma for a given word. If the part-of-speech tagging is incorrect, the resulting lemma may be incorrect as well.\n"
   ]
  },
  {
   "cell_type": "markdown",
   "id": "746f3f7d-02a4-4986-8f0b-f970e4ce8104",
   "metadata": {},
   "source": [
    "### Tokenization\n",
    "Tokenization is a process of breaking unstructured data and natural language text into chunks of information so it can be considered as discrete elements. These small chunks are called tokens. The token occurrences in a document can be used directly as a vector representing that document. This immediately turns an unstructured string or text document into a numerical data structure suitable for machine learning. They can also be used directly by a computer to trigger useful actions and responses. Or they might be used in a machine learning pipeline as features that trigger more complex decisions or behaviour.\n",
    "Tokenization can separate sentences, words, characters, or subwords. When we split the text into sentences, we call it sentence tokenization. For words, we call it word tokenization.\n",
    "In the context of my chosen domain (movie assistant exactly), tokenization could be used to analyze user input and extract key words or phrases that can be used to identify the user's preferences or interests. And based on this data, it will recommend a movie to the user. \n",
    "\n",
    "Python has already its own tool to separate words in the sentence, and it’s a well-known split function. Moreover, you can include into it a separator that you need, like coma etc. But the main disadvantage of this function is when a sentence ends with a dot without the white space, the word will be recorded with this dot. For this reason, there are a variety of libraries you can choose from (like NLTK, TextBlob, spaCy, Gensim, Keras), which considered this specific mistake and lots more. \n",
    "\n",
    "Advantages of tokenization:\n",
    "1. Simplicity: Tokenization is a relatively simple technique that can be implemented quickly and easily. It does not require a lot of specialized knowledge or programming skills, making it accessible to a wide range of developers.\n",
    "2. Flexibility: Tokenization can be customized to suit the specific needs of a chatbot. For example, different tokenization methods can be used to extract different types of information from text, such as words, phrases, or sentences.\n",
    "3. Efficiency: Tokenization can be used to quickly and accurately identify key words or phrases in text, which can be used to make more informed decisions or recommendations.\n",
    "\n",
    "Disadvantages of tokenization:\n",
    "1. Limited context: Tokenization does not consider the context in which a word or phrase is used, which can limit its ability to understand the meaning of text.\n",
    "2. Lack of grammatical structure: Tokenization breaks down text into smaller units, which can strip away important grammatical information that may be useful for understanding the meaning of text.\n",
    "3. Difficulty with rare words: Tokenization may struggle to identify rare or uncommon words, which can limit its effectiveness in certain situations."
   ]
  },
  {
   "cell_type": "markdown",
   "id": "7873ce45-08d2-47e1-94a5-3c03e3638b65",
   "metadata": {},
   "source": [
    "### Text Classification\n",
    "Text clarification is the process of categorizing the text into a predefined group of words. By using NLP, text classification can automatically analyse text and then assign a set of predefined tags or categories based on its context. There is mainly three text classification approaches:\n",
    "* Rule-based System (In the rule-based approach, texts are separated into an organized group using a set of handicraft linguistic rules. For example, words like Donald Trump and Boris Johnson would be categorized into politics. People like LeBron James and Ronaldo would be categorized into sports.)\n",
    "* Machine System (Machine-based classifier learns to make a classification based on past observation from the data sets. User data is prelabelled as training and test data. It collects the classification strategy from the previous inputs and learns continuously. Machine-based classifier usage a bag of a word for feature extension. In a bag of words, a vector represents the frequency of words in a predefined dictionary of a word list.)\n",
    "* Hybrid System (The third approach to text classification is the Hybrid Approach. Hybrid approach usage combines a rule-based and machine Based approach. Hybrid based approach usage of the rule-based system to create a tag and use machine learning to train the system and create a rule. Then the machine-based rule list is compared with the rule-based rule list. If something does not match on the tags, humans improve the list manually. It is the best method to implement text classification)\n",
    "\n",
    "Advantages of text classification:\n",
    "1. Customization: Text classification can be customized to classify text into a wide range of predefined categories, depending on the needs of the chatbot.\n",
    "2. Efficiency: Text classification can be used to quickly and accurately classify large amounts of text, making it an efficient tool for processing and analyzing large datasets.\n",
    "3. Personalization: Text classification can be used to create personalized recommendations or responses based on the classification of user input.\n",
    "\n",
    "Disadvantages of text classification:\n",
    "1. Limited understanding: Text classification does not consider the context or meaning of text, and simply categorizes it based on predefined categories. This can limit its ability to understand the overall meaning of text.\n",
    "2. Error-prone: Text classification is not always accurate, and may make mistakes in categorizing text. This can lead to incorrect or misleading information being generated by the chatbot.\n",
    "3. Training required: Text classification requires training on a large dataset of labeled text in order to accurately classify new text. This can be time-consuming and resource-intensive.\n"
   ]
  },
  {
   "cell_type": "markdown",
   "id": "72eb51bc-33f9-4e67-a8e7-8937d1e8f3b8",
   "metadata": {},
   "source": [
    "***"
   ]
  },
  {
   "cell_type": "markdown",
   "id": "e68d731e-8a13-401d-8c34-89c00b2bcdf9",
   "metadata": {
    "tags": []
   },
   "source": [
    "Concerning data availability, there are a huge variety of information about movies, including reviews, ratings, information about specific actors and genres. This data can be used to train a chatbot to understand and respond to user requests, making it more effective and accurate in its recommendations.\n",
    "\n",
    "In terms of time to setup, these techniques are relatively simple that can be implemented quickly and easily. It does not require a lot of specialized knowledge, and there are many resources available online like open-source libraries (NLTK, SpaCy etc.) that can help developers get started. This means that it is possible to set up a movie-choosing assistant using any of these techniques in a relatively short amount of time.\n",
    "\n",
    "Once a chatbot has been trained on a sufficient amount of data, it can analyse user input and provide recommendations in a matter of seconds or minutes. This is much faster than a human assistant, who would need to spend more time researching and considering different options before making a recommendation.\n",
    "\n",
    "Finally, the output of a movie-choosing assistant using any of these techniques can be highly customized and personalized. By inspecting user input and extracting key words and phrases, the chatbot can make recommendations that are tailored to the specific interests and preferences of each individual user. This can help to improve the overall user experience and make the chatbot more useful and effective.\n",
    "\n",
    "To implement the chatbot, which will be suggesting movies to wants, tokenization and stemming techniques will be used. "
   ]
  },
  {
   "cell_type": "markdown",
   "id": "8689eae0-6615-4f8e-a7af-4b1d21e5c9cd",
   "metadata": {},
   "source": [
    "## **Part C: Implementation**"
   ]
  },
  {
   "cell_type": "markdown",
   "id": "02071f8f-e0a1-4f22-a21e-cf93e90c17e1",
   "metadata": {},
   "source": [
    "### Diagram"
   ]
  },
  {
   "attachments": {
    "214cafab-5825-4984-b6e6-b23441d9e65e.png": {
     "image/png": "[encoded data removed]"
    }
   },
   "cell_type": "markdown",
   "id": "2db66ae7-30d3-470f-a7a3-bf2c76f95a6f",
   "metadata": {},
   "source": [
    "![image.png](attachment:214cafab-5825-4984-b6e6-b23441d9e65e.png)"
   ]
  },
  {
   "cell_type": "markdown",
   "id": "80c9625b-51cb-4bb4-adb7-0050e5710ee9",
   "metadata": {},
   "source": [
    "### Input/Data"
   ]
  },
  {
   "cell_type": "markdown",
   "id": "c98d716a-4ec7-44cf-9768-695beb97f863",
   "metadata": {},
   "source": [
    "Before starting the application, the JSON file with name intents.json was created. It consists of the samples of user's requests, and samples of bot's responses. This information was divided into categories, like: greeting, goodbye, thanks, suggestion, year and genre. Respectively, each of the categories have their examples of questions and responses. When bot receives user's input, after detecting the tag (categories name), it randomly chooses the response to provide to the user. Also, the application uses TMDB API, where it sends a request to receive a film with some specific attributes, which are defined by the user."
   ]
  },
  {
   "cell_type": "markdown",
   "id": "4473790c-f93d-4ba2-a25d-e2c422ce2c18",
   "metadata": {},
   "source": [
    "### Prototype"
   ]
  },
  {
   "cell_type": "markdown",
   "id": "74b8cc9f-9868-4401-8745-dc0b3198bf83",
   "metadata": {},
   "source": [
    "Importing libraries, that will be needed for implementation. "
   ]
  },
  {
   "cell_type": "code",
   "execution_count": 1,
   "id": "2749847b-7491-4f30-8744-88b23ac94ca4",
   "metadata": {
    "tags": []
   },
   "outputs": [
    {
     "name": "stderr",
     "output_type": "stream",
     "text": [
      "2023-02-15 19:54:43.051453: I tensorflow/core/platform/cpu_feature_guard.cc:193] This TensorFlow binary is optimized with oneAPI Deep Neural Network Library (oneDNN) to use the following CPU instructions in performance-critical operations:  AVX2 FMA\n",
      "To enable them in other operations, rebuild TensorFlow with the appropriate compiler flags.\n"
     ]
    },
    {
     "name": "stdout",
     "output_type": "stream",
     "text": [
      "WARNING:tensorflow:From /Users/anastasiiamazur/opt/anaconda3/envs/py37/lib/python3.7/site-packages/tensorflow/python/compat/v2_compat.py:107: disable_resource_variables (from tensorflow.python.ops.variable_scope) is deprecated and will be removed in a future version.\n",
      "Instructions for updating:\n",
      "non-resource variables are not supported in the long term\n"
     ]
    }
   ],
   "source": [
    "import nltk\n",
    "from nltk.stem.lancaster import LancasterStemmer\n",
    "stemmer = LancasterStemmer()\n",
    "\n",
    "import numpy\n",
    "import tflearn\n",
    "import tensorflow\n",
    "import random\n",
    "import json\n",
    "import pickle\n",
    "import requests\n",
    "import re\n",
    "import os"
   ]
  },
  {
   "cell_type": "markdown",
   "id": "4de89210-e3ab-43ca-8513-959d3620211c",
   "metadata": {},
   "source": [
    "Open the JSON file with the name intents.json, where all required conversational data situates. Also, it is in a role of dataset, which will be used later, during launching training part of the code for the model. "
   ]
  },
  {
   "cell_type": "code",
   "execution_count": 2,
   "id": "d91be52e-3f0b-41bb-bcbf-3f54aaa9edfa",
   "metadata": {},
   "outputs": [],
   "source": [
    "with open(\"intents.json\") as file:\n",
    "    data = json.load(file)"
   ]
  },
  {
   "cell_type": "markdown",
   "id": "47c17f6e-fcc4-43b5-ab0a-07c37a9a58c7",
   "metadata": {},
   "source": [
    "Filling in the dataset. Also, in order not to manually type all of the years and genres into dataset, this part of code will automatically fill in those parts."
   ]
  },
  {
   "cell_type": "code",
   "execution_count": 3,
   "id": "7733737d-ab02-40fa-a52d-a381ecb8bf8c",
   "metadata": {},
   "outputs": [],
   "source": [
    "years = list(range(1920, 2023))\n",
    "genres = [\n",
    "    {\n",
    "        \"id\": 28,\n",
    "        \"name\": \"Action\"\n",
    "    },\n",
    "    {\n",
    "        \"id\": 12,\n",
    "        \"name\": \"Adventure\"\n",
    "    },\n",
    "    {\n",
    "        \"id\": 16,\n",
    "        \"name\": \"Animation\"\n",
    "    },\n",
    "    {\n",
    "        \"id\": 35,\n",
    "        \"name\": \"Comedy\"\n",
    "    },\n",
    "    {\n",
    "        \"id\": 80,\n",
    "        \"name\": \"Crime\"\n",
    "    },\n",
    "    {\n",
    "        \"id\": 99,\n",
    "        \"name\": \"Documentary\"\n",
    "    },\n",
    "    {\n",
    "        \"id\": 18,\n",
    "        \"name\": \"Drama\"\n",
    "    },\n",
    "    {\n",
    "        \"id\": 10751,\n",
    "        \"name\": \"Family\"\n",
    "    },\n",
    "    {\n",
    "        \"id\": 14,\n",
    "        \"name\": \"Fantasy\"\n",
    "    },\n",
    "    {\n",
    "        \"id\": 36,\n",
    "        \"name\": \"History\"\n",
    "    },\n",
    "    {\n",
    "        \"id\": 27,\n",
    "        \"name\": \"Horror\"\n",
    "    },\n",
    "    {\n",
    "        \"id\": 10402,\n",
    "        \"name\": \"Music\"\n",
    "    },\n",
    "    {\n",
    "        \"id\": 9648,\n",
    "        \"name\": \"Mystery\"\n",
    "    },\n",
    "    {\n",
    "        \"id\": 10749,\n",
    "        \"name\": \"Romance\"\n",
    "    },\n",
    "    {\n",
    "        \"id\": 878,\n",
    "        \"name\": \"Science Fiction\"\n",
    "    },\n",
    "    {\n",
    "        \"id\": 10770,\n",
    "        \"name\": \"TV Movie\"\n",
    "    },\n",
    "    {\n",
    "        \"id\": 53,\n",
    "        \"name\": \"Thriller\"\n",
    "    },\n",
    "    {\n",
    "        \"id\": 10752,\n",
    "        \"name\": \"War\"\n",
    "    },\n",
    "    {\n",
    "        \"id\": 37,\n",
    "        \"name\": \"Western\"\n",
    "    }\n",
    "]\n",
    "\n",
    "# filling in the dataset\n",
    "for dataItem in data[\"intents\"]:\n",
    "    if dataItem[\"tag\"] == \"year\":\n",
    "        patterns = dataItem[\"patterns\"]\n",
    "        newPatterns = []\n",
    "        for pattern in patterns:\n",
    "            for year in years:\n",
    "                #print(pattern % year)\n",
    "                newPatterns.append(pattern % year)\n",
    "        dataItem[\"patterns\"] = newPatterns\n",
    "    if dataItem[\"tag\"] == \"genre\":\n",
    "        patterns = dataItem[\"patterns\"]\n",
    "        newPatterns = []\n",
    "        for pattern in patterns:\n",
    "            for genre in genres:\n",
    "                newPatterns.append(pattern % genre[\"name\"])\n",
    "        dataItem[\"patterns\"] = newPatterns"
   ]
  },
  {
   "cell_type": "markdown",
   "id": "c81f0935-9353-4cf5-a355-5bcd58c7c713",
   "metadata": {},
   "source": [
    "This part of code will open the existing file with required data if it has one, and if not, it will take all information from previously opened JSON file. It should be stored separately, like each tag, pattern and response. Then tokenizing each pattern to have data stored as separate words, not as a string, and adding to the list. The next step is completing the process of stemming and sorting to reduce the vocabulary and attempting to find more general meaning behind the sentences. "
   ]
  },
  {
   "cell_type": "code",
   "execution_count": 4,
   "id": "3def8b68-41a5-4a6a-b9e9-d5f1abad2de3",
   "metadata": {},
   "outputs": [],
   "source": [
    "try:\n",
    "    with open(\"data.pickle\", \"rb\") as f:\n",
    "        words, labels, training, output = pickle.load(f)\n",
    "except:\n",
    "    words = []\n",
    "    labels = []\n",
    "    docs_x = []\n",
    "    docs_y = []\n",
    "\n",
    "\n",
    "    for intent in data['intents']:\n",
    "        for pattern in intent['patterns']:\n",
    "            wrds = nltk.word_tokenize(pattern)\n",
    "            words.extend(wrds)\n",
    "            docs_x.append(wrds)\n",
    "            docs_y.append(intent[\"tag\"])\n",
    "\n",
    "        if intent['tag'] not in labels:\n",
    "            labels.append(intent['tag'])   \n",
    "\n",
    "    # stemming and lower casing words        \n",
    "    words = [stemmer.stem(w.lower()) for w in words if w not in [\"?\",\",\"]]\n",
    "    # sorting and removing duplicates \n",
    "    words = sorted(list(set(words)))        \n",
    "\n",
    "    labels = sorted(labels)\n",
    "\n",
    "    training = []\n",
    "    output = []\n",
    "\n",
    "    out_empty = [0 for _ in range(len(labels))]\n",
    "\n",
    "    for x, doc in enumerate(docs_x):\n",
    "        bag = []\n",
    "\n",
    "        wrds = [stemmer.stem(w.lower()) for w in doc]\n",
    "\n",
    "        for w in words:\n",
    "            if w in wrds:\n",
    "                bag.append(1)\n",
    "            else:\n",
    "                bag.append(0)\n",
    "\n",
    "        output_row = out_empty[:]\n",
    "        output_row[labels.index(docs_y[x])] = 1\n",
    "\n",
    "        training.append(bag)\n",
    "        output.append(output_row)\n",
    "\n",
    "    training = numpy.array(training)\n",
    "    output = numpy.array(output)\n",
    "\n",
    "    with open(\"data.pickle\", \"wb\") as f:\n",
    "        pickle.dump((words, labels, training, output), f)"
   ]
  },
  {
   "cell_type": "markdown",
   "id": "8a14bd15-8c7d-437d-a374-da24357cb3a0",
   "metadata": {},
   "source": [
    "This code stands for creating and thaining the model. It is a standard feed-forward neural network with two hidden layers. The goal of the network will be to look at a bag of words and give a class that they belong too (one of our tags from the JSON file)."
   ]
  },
  {
   "cell_type": "code",
   "execution_count": 5,
   "id": "3bb7d4b0-2296-4dc5-9139-0f127c64e775",
   "metadata": {},
   "outputs": [
    {
     "name": "stdout",
     "output_type": "stream",
     "text": [
      "WARNING:tensorflow:From /Users/anastasiiamazur/opt/anaconda3/envs/py37/lib/python3.7/site-packages/tflearn/initializations.py:165: calling TruncatedNormal.__init__ (from tensorflow.python.ops.init_ops) with dtype is deprecated and will be removed in a future version.\n",
      "Instructions for updating:\n",
      "Call initializer instance with the dtype argument instead of passing it to the constructor\n"
     ]
    },
    {
     "name": "stderr",
     "output_type": "stream",
     "text": [
      "2023-02-15 19:54:54.400970: I tensorflow/core/platform/cpu_feature_guard.cc:193] This TensorFlow binary is optimized with oneAPI Deep Neural Network Library (oneDNN) to use the following CPU instructions in performance-critical operations:  AVX2 FMA\n",
      "To enable them in other operations, rebuild TensorFlow with the appropriate compiler flags.\n",
      "2023-02-15 19:54:54.580612: I tensorflow/compiler/mlir/mlir_graph_optimization_pass.cc:357] MLIR V1 optimization pass is not enabled\n"
     ]
    }
   ],
   "source": [
    "tensorflow.compat.v1.reset_default_graph()\n",
    "\n",
    "net = tflearn.input_data(shape=[None, len(training[0])])\n",
    "net = tflearn.fully_connected(net, 8)\n",
    "net = tflearn.fully_connected(net, 8)\n",
    "net = tflearn.fully_connected(net, len(output[0]), activation=\"softmax\")\n",
    "net = tflearn.regression(net)\n",
    "\n",
    "model = tflearn.DNN(net)"
   ]
  },
  {
   "cell_type": "markdown",
   "id": "ac0c5a44-5cdf-4671-bac1-3df3f900f296",
   "metadata": {},
   "source": [
    "Once the setting up of the model is over, it is needed to fit the data into it, in case it hasn't been done yet. And once the training is done, it will save it to the file model.tflearn for use in other scripts. If such file already exists, it will simply use it."
   ]
  },
  {
   "cell_type": "code",
   "execution_count": 6,
   "id": "d3622fb0-993c-46a2-ac8f-599787c58d96",
   "metadata": {},
   "outputs": [
    {
     "name": "stdout",
     "output_type": "stream",
     "text": [
      "Training Step: 47999  | total loss: \u001b[1m\u001b[32m0.14076\u001b[0m\u001b[0m | time: 0.093s\n",
      "| Adam | epoch: 1000 | loss: 0.14076 - acc: 0.9803 -- iter: 376/382\n",
      "Training Step: 48000  | total loss: \u001b[1m\u001b[32m0.12695\u001b[0m\u001b[0m | time: 0.095s\n",
      "| Adam | epoch: 1000 | loss: 0.12695 - acc: 0.9823 -- iter: 382/382\n",
      "--\n",
      "INFO:tensorflow:/Users/anastasiiamazur/Documents/Westminster/Applied AI/Cw1_w1720335_AnastasiiaMazur/model.tflearn is not in all_model_checkpoint_paths. Manually adding it.\n"
     ]
    }
   ],
   "source": [
    "if os.path.exists(\"model.tflearn.index\"):\n",
    "    model.load(\"model.tflearn\")\n",
    "else:\n",
    "    model.fit(training, output, n_epoch=1000, batch_size=8, show_metric=True)\n",
    "    model.save(\"model.tflearn\")\n",
    "\n",
    "#model.fit(training, output, n_epoch=1000, batch_size=8, show_metric=True)\n",
    "#model.save(\"model.tflearn\")"
   ]
  },
  {
   "cell_type": "markdown",
   "id": "0b7a6ed4-6bc5-4f3d-9b51-72a2c63c28ca",
   "metadata": {},
   "source": [
    "bag_of_words function: Neural networks and machine learning algorithms require numerical input. So it is needed to represent sentences with numbers. So each sentence is represented with a list, the length of the amount of words in models vocabulary. Each position in the list will represent a word from vocabulary. If the position in the list is a 1 then that will mean that the word exists in the sentence, if it is a 0 then the word is nor present. It is called a bag of words because the order in which the words appear in the sentence is lost, we only know the presence of words in our models vocabulary. And then all data converts into numpy array.\n",
    "\n",
    "find_by_genre fuction: This function will call the API with particular attributes that the user has typed, in this case it is genre of the movie. And then from all receiver results, it will randomly pick up only one.\n",
    "\n",
    "find_by_year function: This function will call the API with particular attributes that the user has typed, in this case it is year when the movie was released. And then from all receiver results, it will randomly pick up only one."
   ]
  },
  {
   "cell_type": "code",
   "execution_count": 7,
   "id": "658ce11f-ed29-4051-a0a4-2fcf12313b23",
   "metadata": {},
   "outputs": [],
   "source": [
    "def bag_of_words(s, words):\n",
    "    bag = [0 for _ in range(len(words))]\n",
    "\n",
    "    s_words = nltk.word_tokenize(s)\n",
    "    s_words = [stemmer.stem(word.lower()) for word in s_words]\n",
    "\n",
    "    for se in s_words:\n",
    "        for i, w in enumerate(words):\n",
    "            if w == se:\n",
    "                bag[i] = 1\n",
    "\n",
    "    return numpy.array(bag)\n",
    "\n",
    "def find_by_genre(genre):\n",
    "    page = random.choice(list(range(1, 10)))\n",
    "    url = \"https://api.themoviedb.org/3/discover/movie?api_key=f721fbc93a148034dc525f5e858e0c2e&with_genres=%s&language=en-US&page=%s\" % (genre[\"id\"], page)\n",
    "\n",
    "    payload={}\n",
    "    headers = {}\n",
    "\n",
    "    response = requests.request(\"GET\", url, headers=headers, data=payload)\n",
    "    results = response.json()[\"results\"]\n",
    "    return random.choice(results)\n",
    "\n",
    "def find_by_year(year):\n",
    "    page = random.choice(list(range(1, 10)))\n",
    "    url = \"https://api.themoviedb.org/3/discover/movie?api_key=f721fbc93a148034dc525f5e858e0c2e&primary_release_year=%s&language=en-US&page=%s\" % (year, page)\n",
    "\n",
    "    payload={}\n",
    "    headers = {}\n",
    "\n",
    "    response = requests.request(\"GET\", url, headers=headers, data=payload)\n",
    "    results = response.json()[\"results\"]\n",
    "    return random.choice(results)"
   ]
  },
  {
   "cell_type": "markdown",
   "id": "631fa89b-4b29-4564-8096-f3fe8ccf6d09",
   "metadata": {},
   "source": [
    "Ideally the program should generate a response to any sentence the user types in. This model does not take string input, it takes a bag of words, so it does not spit sentences, it generates a list of probabilities for all of classes. It gets some input from a user, converts it into a bag of words, gets a prediction from the model, finds the most probable class and picks a response from that class. The bag_of_words function will transform our string input to a bag of words using the created words list. The chat function will handle getting a prediction from the model and grabbing an appropriate response from JSON file of responses. And if it ends with class \"year\" or \"genre\", it call an TMDB API to find the movie."
   ]
  },
  {
   "cell_type": "code",
   "execution_count": 8,
   "id": "fd27956d-e070-4bf3-978c-d32b5c3ba87b",
   "metadata": {},
   "outputs": [],
   "source": [
    "def chat():\n",
    "    print(\"Start talking with the bot (type quit to stop)!\")\n",
    "    while True:\n",
    "        inp = input(\"You: \")\n",
    "        if inp.lower() == \"quit\":\n",
    "            break\n",
    "\n",
    "        results = model.predict([bag_of_words(inp, words)])\n",
    "        results_index = numpy.argmax(results)\n",
    "        tag = labels[results_index]\n",
    "        \n",
    "        movie = None\n",
    "        \n",
    "        if tag == \"year\":\n",
    "            year = re.findall(r'\\d+', inp)[0]\n",
    "            movie = find_by_year(year)\n",
    "        \n",
    "        elif tag == \"genre\":\n",
    "            genre = None\n",
    "            for g in genres:\n",
    "                if g[\"name\"].lower() in inp.lower():\n",
    "                    genre = g\n",
    "                    break\n",
    "            if not genre:\n",
    "                genre = genres[0]\n",
    "            movie = find_by_genre(genre)\n",
    "        \n",
    "        for tg in data[\"intents\"]:\n",
    "            if tg['tag'] == tag:\n",
    "                responses = tg['responses']\n",
    "        \n",
    "        if movie:\n",
    "            #print(\"Bot: \", (random.choice(responses) % movie))\n",
    "            genreNames = []\n",
    "            for genre in genres:\n",
    "                if genre[\"id\"] in movie[\"genre_ids\"]:\n",
    "                    genreNames.append(genre[\"name\"])\n",
    "            print(f\"Bot: Here is a movie for you to watch: title: {movie['original_title']}, date of release: {movie['release_date']}, genres: {genreNames}.\")\n",
    "            print(\"Bot: If you want another one, just type a genre or a year.\")\n",
    "        else:\n",
    "            print(\"Bot: \", random.choice(responses))\n",
    "\n",
    "#print(find_by_genre(genres[0]))"
   ]
  },
  {
   "cell_type": "code",
   "execution_count": 9,
   "id": "beb9f167-f787-47b8-8b81-7f48bfc98980",
   "metadata": {},
   "outputs": [
    {
     "name": "stdout",
     "output_type": "stream",
     "text": [
      "Start talking with the bot (type quit to stop)!\n"
     ]
    },
    {
     "name": "stdin",
     "output_type": "stream",
     "text": [
      "You:  Hey\n"
     ]
    },
    {
     "name": "stdout",
     "output_type": "stream",
     "text": [
      "Bot:  Hello, thanks for visiting\n"
     ]
    },
    {
     "name": "stdin",
     "output_type": "stream",
     "text": [
      "You:  Suggest a movie\n"
     ]
    },
    {
     "name": "stdout",
     "output_type": "stream",
     "text": [
      "Bot:  Good to see you again\n"
     ]
    },
    {
     "name": "stdin",
     "output_type": "stream",
     "text": [
      "You:  Recommend a movie\n"
     ]
    },
    {
     "name": "stdout",
     "output_type": "stream",
     "text": [
      "Bot: Here is a movie for you to watch: title: Alien Sniperess, date of release: 2022-04-08, genres: ['Action', 'Fantasy', 'Science Fiction'].\n",
      "Bot: If you want another one, just type a genre or a year.\n"
     ]
    },
    {
     "name": "stdin",
     "output_type": "stream",
     "text": [
      "You:  I want a movie from 2023\n"
     ]
    },
    {
     "name": "stdout",
     "output_type": "stream",
     "text": [
      "Bot: Here is a movie for you to watch: title: 서울대작전, date of release: 2022-08-26, genres: ['Action', 'Adventure', 'Comedy', 'Crime'].\n",
      "Bot: If you want another one, just type a genre or a year.\n"
     ]
    },
    {
     "name": "stdin",
     "output_type": "stream",
     "text": [
      "You:  2023\n"
     ]
    },
    {
     "name": "stdout",
     "output_type": "stream",
     "text": [
      "Bot: Here is a movie for you to watch: title: Eternals, date of release: 2021-11-03, genres: ['Action', 'Adventure', 'Science Fiction'].\n",
      "Bot: If you want another one, just type a genre or a year.\n"
     ]
    },
    {
     "name": "stdin",
     "output_type": "stream",
     "text": [
      "You:  Horror\n"
     ]
    },
    {
     "name": "stdout",
     "output_type": "stream",
     "text": [
      "Bot: Here is a movie for you to watch: title: The Fly, date of release: 1986-08-15, genres: ['Horror', 'Science Fiction'].\n",
      "Bot: If you want another one, just type a genre or a year.\n"
     ]
    },
    {
     "name": "stdin",
     "output_type": "stream",
     "text": [
      "You:  I'd like a horror movie\n"
     ]
    },
    {
     "name": "stdout",
     "output_type": "stream",
     "text": [
      "Bot: Here is a movie for you to watch: title: Homebound, date of release: 2022-04-01, genres: ['Drama', 'Horror', 'Mystery'].\n",
      "Bot: If you want another one, just type a genre or a year.\n"
     ]
    },
    {
     "name": "stdin",
     "output_type": "stream",
     "text": [
      "You:  Thanks\n"
     ]
    },
    {
     "name": "stdout",
     "output_type": "stream",
     "text": [
      "Bot:  Any time!\n"
     ]
    },
    {
     "name": "stdin",
     "output_type": "stream",
     "text": [
      "You:  bye\n"
     ]
    },
    {
     "name": "stdout",
     "output_type": "stream",
     "text": [
      "Bot:  Have a nice day\n"
     ]
    },
    {
     "name": "stdin",
     "output_type": "stream",
     "text": [
      "You:  quit\n"
     ]
    }
   ],
   "source": [
    "chat()"
   ]
  },
  {
   "cell_type": "markdown",
   "id": "a50f09e3-dd6c-45b1-aab3-63a159e86bd0",
   "metadata": {},
   "source": [
    "## **Part D: Testing**"
   ]
  },
  {
   "cell_type": "markdown",
   "id": "8ca75c20-48e5-4f13-bb51-b825c3063bde",
   "metadata": {},
   "source": [
    "An epoch is a unit of measurement in the training of a neural network. In the context of neural network training, an epoch refers to one pass through the entire dataset. When training a neural network, the goal is to adjust the weights and biases of the network's layers so that it can accurately make predictions or perform a specific task. To do this, the neural network is fed a set of training data, which consists of input examples and the corresponding correct outputs. The neural network uses this training data to learn the relationships between the inputs and the outputs and to improve its predictions. The number of epochs that are used to train a neural network can have a significant impact on its performance. Using too few epochs may result in an undertrained model that does not perform well, while using too many epochs can lead to an overtrained model that does not generalize well to new data. As a result, it is important to carefully choose the number of epochs based on the specific needs of the task and the characteristics of the data.\n",
    "\n",
    "To test current model, the different number of epochs will be used, to check the accuracy of the program after training and the manual method to test the chatbot itself. Manual testing: One of the simplest methods is to manually test the chatbot by interacting with it and evaluating its responses. This can be done by a team of testers or by a small group of users. In that case, the program will be tested by me, and family members. Also, during the implementation, the program was tested by the method unit testing. "
   ]
  },
  {
   "cell_type": "markdown",
   "id": "6427b238-3ed1-4540-99dc-cb0122d8a384",
   "metadata": {},
   "source": [
    "1. Testing with 10 epochs. The result of this test shows us, that 10 epochs was not enough even to recognise simple words, as the bot thinks that \"Hi\" is a year of a film, and tries to call API using this data. Therefore, predictably it will not work. So, it returns an error message."
   ]
  },
  {
   "cell_type": "code",
   "execution_count": 2,
   "id": "6d515bc9-35f2-4042-8b9a-80931f8d87dc",
   "metadata": {},
   "outputs": [
    {
     "name": "stdout",
     "output_type": "stream",
     "text": [
      "Start talking with the bot (type quit to stop)!\n"
     ]
    },
    {
     "name": "stdin",
     "output_type": "stream",
     "text": [
      "You:  Hi\n"
     ]
    },
    {
     "ename": "IndexError",
     "evalue": "list index out of range",
     "output_type": "error",
     "traceback": [
      "\u001b[0;31m---------------------------------------------------------------------------\u001b[0m",
      "\u001b[0;31mIndexError\u001b[0m                                Traceback (most recent call last)",
      "\u001b[0;32m/var/folders/69/2xln4xtn18zcb9srf13whc4w0000gn/T/ipykernel_8960/4150894013.py\u001b[0m in \u001b[0;36m<module>\u001b[0;34m\u001b[0m\n\u001b[0;32m----> 1\u001b[0;31m \u001b[0mchat\u001b[0m\u001b[0;34m(\u001b[0m\u001b[0;34m)\u001b[0m\u001b[0;34m\u001b[0m\u001b[0;34m\u001b[0m\u001b[0m\n\u001b[0m",
      "\u001b[0;32m/var/folders/69/2xln4xtn18zcb9srf13whc4w0000gn/T/ipykernel_8960/2009224638.py\u001b[0m in \u001b[0;36mchat\u001b[0;34m()\u001b[0m\n\u001b[1;32m    236\u001b[0m \u001b[0;34m\u001b[0m\u001b[0m\n\u001b[1;32m    237\u001b[0m         \u001b[0;32mif\u001b[0m \u001b[0mtag\u001b[0m \u001b[0;34m==\u001b[0m \u001b[0;34m\"year\"\u001b[0m\u001b[0;34m:\u001b[0m\u001b[0;34m\u001b[0m\u001b[0;34m\u001b[0m\u001b[0m\n\u001b[0;32m--> 238\u001b[0;31m             \u001b[0myear\u001b[0m \u001b[0;34m=\u001b[0m \u001b[0mre\u001b[0m\u001b[0;34m.\u001b[0m\u001b[0mfindall\u001b[0m\u001b[0;34m(\u001b[0m\u001b[0;34mr'\\d+'\u001b[0m\u001b[0;34m,\u001b[0m \u001b[0minp\u001b[0m\u001b[0;34m)\u001b[0m\u001b[0;34m[\u001b[0m\u001b[0;36m0\u001b[0m\u001b[0;34m]\u001b[0m\u001b[0;34m\u001b[0m\u001b[0;34m\u001b[0m\u001b[0m\n\u001b[0m\u001b[1;32m    239\u001b[0m             \u001b[0mmovie\u001b[0m \u001b[0;34m=\u001b[0m \u001b[0mfind_by_year\u001b[0m\u001b[0;34m(\u001b[0m\u001b[0myear\u001b[0m\u001b[0;34m)\u001b[0m\u001b[0;34m\u001b[0m\u001b[0;34m\u001b[0m\u001b[0m\n\u001b[1;32m    240\u001b[0m \u001b[0;34m\u001b[0m\u001b[0m\n",
      "\u001b[0;31mIndexError\u001b[0m: list index out of range"
     ]
    }
   ],
   "source": [
    "chat()"
   ]
  },
  {
   "cell_type": "markdown",
   "id": "f6f5b9f6-190e-4a90-a209-c6eaa5d5f0c2",
   "metadata": {},
   "source": [
    "2. Testing with 100 epochs. As could be seen from current result, the chatbot can reflect to users preferences (particularly genre and year), but there are some problems with understanding basic human language, especially it could be noticed with part of dialogue, where user tries to say \"Bye\", and the bot replies \"Good to see you again\" except of saying bye to the user. So, the number of 100 training epochs was not enough to recognise all sentences."
   ]
  },
  {
   "cell_type": "code",
   "execution_count": 13,
   "id": "03114920-1c98-42d7-86eb-d01e3d837db8",
   "metadata": {},
   "outputs": [
    {
     "name": "stdout",
     "output_type": "stream",
     "text": [
      "Start talking with the bot (type quit to stop)!\n"
     ]
    },
    {
     "name": "stdin",
     "output_type": "stream",
     "text": [
      "You:  Hey\n"
     ]
    },
    {
     "name": "stdout",
     "output_type": "stream",
     "text": [
      "Bot:  Hello, thanks for visiting\n"
     ]
    },
    {
     "name": "stdin",
     "output_type": "stream",
     "text": [
      "You:  hello\n"
     ]
    },
    {
     "name": "stdout",
     "output_type": "stream",
     "text": [
      "Bot:  Hi there, how can I help?\n"
     ]
    },
    {
     "name": "stdin",
     "output_type": "stream",
     "text": [
      "You:  hi there\n"
     ]
    },
    {
     "name": "stdout",
     "output_type": "stream",
     "text": [
      "Bot:  Hello, thanks for visiting\n"
     ]
    },
    {
     "name": "stdin",
     "output_type": "stream",
     "text": [
      "You:  Suggest me a movie\n"
     ]
    },
    {
     "name": "stdout",
     "output_type": "stream",
     "text": [
      "Bot:  What genre would you like?\n"
     ]
    },
    {
     "name": "stdin",
     "output_type": "stream",
     "text": [
      "You:  I want a drama movie\n"
     ]
    },
    {
     "name": "stdout",
     "output_type": "stream",
     "text": [
      "Bot: Here is a movie for you to watch: title: 大內密探之零零性性, date of release: 1996-08-10, genres: ['Drama'].\n",
      "Bot: If you want another one, just type a genre or a year.\n"
     ]
    },
    {
     "name": "stdin",
     "output_type": "stream",
     "text": [
      "You:  I want a movie from 2002\n"
     ]
    },
    {
     "name": "stdout",
     "output_type": "stream",
     "text": [
      "Bot: Here is a movie for you to watch: title: Stuart Little 2, date of release: 2002-07-19, genres: ['Adventure', 'Animation', 'Comedy', 'Family'].\n",
      "Bot: If you want another one, just type a genre or a year.\n"
     ]
    },
    {
     "name": "stdin",
     "output_type": "stream",
     "text": [
      "You:  2001\n"
     ]
    },
    {
     "name": "stdout",
     "output_type": "stream",
     "text": [
      "Bot: Here is a movie for you to watch: title: Session 9, date of release: 2001-08-10, genres: ['Horror', 'Mystery'].\n",
      "Bot: If you want another one, just type a genre or a year.\n"
     ]
    },
    {
     "name": "stdin",
     "output_type": "stream",
     "text": [
      "You:  2001\n"
     ]
    },
    {
     "name": "stdout",
     "output_type": "stream",
     "text": [
      "Bot: Here is a movie for you to watch: title: Someone Like You..., date of release: 2001-03-30, genres: ['Comedy', 'Romance'].\n",
      "Bot: If you want another one, just type a genre or a year.\n"
     ]
    },
    {
     "name": "stdin",
     "output_type": "stream",
     "text": [
      "You:  horror\n"
     ]
    },
    {
     "name": "stdout",
     "output_type": "stream",
     "text": [
      "Bot: Here is a movie for you to watch: title: In the Forest, date of release: 2022-01-28, genres: ['Horror', 'Thriller'].\n",
      "Bot: If you want another one, just type a genre or a year.\n"
     ]
    },
    {
     "name": "stdin",
     "output_type": "stream",
     "text": [
      "You:  fantasy\n"
     ]
    },
    {
     "name": "stdout",
     "output_type": "stream",
     "text": [
      "Bot: Here is a movie for you to watch: title: The Fifth Element, date of release: 1997-05-02, genres: ['Action', 'Adventure', 'Fantasy', 'Science Fiction', 'Thriller'].\n",
      "Bot: If you want another one, just type a genre or a year.\n"
     ]
    },
    {
     "name": "stdin",
     "output_type": "stream",
     "text": [
      "You:  Thanks\n"
     ]
    },
    {
     "name": "stdout",
     "output_type": "stream",
     "text": [
      "Bot:  My pleasure\n"
     ]
    },
    {
     "name": "stdin",
     "output_type": "stream",
     "text": [
      "You:  Bye\n"
     ]
    },
    {
     "name": "stdout",
     "output_type": "stream",
     "text": [
      "Bot:  Hello, thanks for visiting\n"
     ]
    },
    {
     "name": "stdin",
     "output_type": "stream",
     "text": [
      "You:  See you later\n"
     ]
    },
    {
     "name": "stdout",
     "output_type": "stream",
     "text": [
      "Bot:  Happy to help!\n"
     ]
    },
    {
     "name": "stdin",
     "output_type": "stream",
     "text": [
      "You:  quit\n"
     ]
    }
   ],
   "source": [
    "chat()"
   ]
  },
  {
   "cell_type": "markdown",
   "id": "9469b205-8d5e-43a9-bb51-e82a278804a6",
   "metadata": {},
   "source": [
    "3. Testing with 500 epochs (took approximately 3 minutes). As could be seen from current result, the chatbot can respond to users requests, but there are some problems with understanding the word with a typo. When I have tried to write \"thats helpful\", instead \"That's helpful\", it returns me an error, the same like in the previous testing."
   ]
  },
  {
   "cell_type": "code",
   "execution_count": 29,
   "id": "1e3cc981-035e-4527-9d58-91148c6c990b",
   "metadata": {},
   "outputs": [
    {
     "name": "stdout",
     "output_type": "stream",
     "text": [
      "Start talking with the bot (type quit to stop)!\n"
     ]
    },
    {
     "name": "stdin",
     "output_type": "stream",
     "text": [
      "You:  Hi\n"
     ]
    },
    {
     "name": "stdout",
     "output_type": "stream",
     "text": [
      "Bot:  Good to see you again\n"
     ]
    },
    {
     "name": "stdin",
     "output_type": "stream",
     "text": [
      "You:  Hello\n"
     ]
    },
    {
     "name": "stdout",
     "output_type": "stream",
     "text": [
      "Bot:  Hi there, how can I help?\n"
     ]
    },
    {
     "name": "stdin",
     "output_type": "stream",
     "text": [
      "You:  I don't know what to watch, can you help me?\n"
     ]
    },
    {
     "name": "stdout",
     "output_type": "stream",
     "text": [
      "Bot:  What genre would you like?\n"
     ]
    },
    {
     "name": "stdin",
     "output_type": "stream",
     "text": [
      "You:  Drama movie\n"
     ]
    },
    {
     "name": "stdout",
     "output_type": "stream",
     "text": [
      "Bot: Here is a movie for you to watch: title: Athena, date of release: 2022-09-09, genres: ['Action', 'Drama', 'Thriller'].\n",
      "Bot: If you want another one, just type a genre or a year.\n"
     ]
    },
    {
     "name": "stdin",
     "output_type": "stream",
     "text": [
      "You:  Movie from 2001\n"
     ]
    },
    {
     "name": "stdout",
     "output_type": "stream",
     "text": [
      "Bot: Here is a movie for you to watch: title: The Glass House, date of release: 2001-09-14, genres: ['Drama', 'Thriller'].\n",
      "Bot: If you want another one, just type a genre or a year.\n"
     ]
    },
    {
     "name": "stdin",
     "output_type": "stream",
     "text": [
      "You:  2001\n"
     ]
    },
    {
     "name": "stdout",
     "output_type": "stream",
     "text": [
      "Bot: Here is a movie for you to watch: title: Son de mar, date of release: 2001-06-08, genres: ['Drama', 'Romance'].\n",
      "Bot: If you want another one, just type a genre or a year.\n"
     ]
    },
    {
     "name": "stdin",
     "output_type": "stream",
     "text": [
      "You:  2001\n"
     ]
    },
    {
     "name": "stdout",
     "output_type": "stream",
     "text": [
      "Bot: Here is a movie for you to watch: title: Riding in Cars with Boys, date of release: 2001-10-19, genres: ['Comedy', 'Drama', 'Romance'].\n",
      "Bot: If you want another one, just type a genre or a year.\n"
     ]
    },
    {
     "name": "stdin",
     "output_type": "stream",
     "text": [
      "You:  Mystery\n"
     ]
    },
    {
     "name": "stdout",
     "output_type": "stream",
     "text": [
      "Bot: Here is a movie for you to watch: title: The New Mutants, date of release: 2020-08-26, genres: ['Action', 'Horror', 'Mystery', 'Science Fiction'].\n",
      "Bot: If you want another one, just type a genre or a year.\n"
     ]
    },
    {
     "name": "stdin",
     "output_type": "stream",
     "text": [
      "You:  Thank you\n"
     ]
    },
    {
     "name": "stdout",
     "output_type": "stream",
     "text": [
      "Bot:  Any time!\n"
     ]
    },
    {
     "name": "stdin",
     "output_type": "stream",
     "text": [
      "You:  Thanks\n"
     ]
    },
    {
     "name": "stdout",
     "output_type": "stream",
     "text": [
      "Bot:  Happy to help!\n"
     ]
    },
    {
     "name": "stdin",
     "output_type": "stream",
     "text": [
      "You:  That's helpful\n"
     ]
    },
    {
     "name": "stdout",
     "output_type": "stream",
     "text": [
      "Bot:  Happy to help!\n"
     ]
    },
    {
     "name": "stdin",
     "output_type": "stream",
     "text": [
      "You:  Bye\n"
     ]
    },
    {
     "name": "stdout",
     "output_type": "stream",
     "text": [
      "Bot:  Bye! Come back again soon.\n"
     ]
    },
    {
     "name": "stdin",
     "output_type": "stream",
     "text": [
      "You:  Goodbye\n"
     ]
    },
    {
     "name": "stdout",
     "output_type": "stream",
     "text": [
      "Bot:  Bye! Come back again soon.\n"
     ]
    },
    {
     "name": "stdin",
     "output_type": "stream",
     "text": [
      "You:  See you\n"
     ]
    },
    {
     "name": "stdout",
     "output_type": "stream",
     "text": [
      "Bot:  See you later, thanks for visiting\n"
     ]
    },
    {
     "name": "stdin",
     "output_type": "stream",
     "text": [
      "You:  quit\n"
     ]
    }
   ],
   "source": [
    "chat()"
   ]
  },
  {
   "cell_type": "markdown",
   "id": "3bf77fa5-967b-431d-bdbe-a68e2e66576e",
   "metadata": {},
   "source": [
    "4. Testing with 1000 epochs (took approximately 6 min 40 sec). As could be visible from received results, 1000 epochs were enough to carry the simple conversation, recognise greeting, thanks etc., and suggest a movie with user's preferred genre or year. "
   ]
  },
  {
   "cell_type": "code",
   "execution_count": 11,
   "id": "708248ad-2919-43a7-8fc0-8596fc4bed60",
   "metadata": {},
   "outputs": [
    {
     "name": "stdout",
     "output_type": "stream",
     "text": [
      "Start talking with the bot (type quit to stop)!\n"
     ]
    },
    {
     "name": "stdin",
     "output_type": "stream",
     "text": [
      "You:  Hey\n"
     ]
    },
    {
     "name": "stdout",
     "output_type": "stream",
     "text": [
      "Bot:  Hello, thanks for visiting\n"
     ]
    },
    {
     "name": "stdin",
     "output_type": "stream",
     "text": [
      "You:  Hello\n"
     ]
    },
    {
     "name": "stdout",
     "output_type": "stream",
     "text": [
      "Bot:  Hi there, how can I help?\n"
     ]
    },
    {
     "name": "stdin",
     "output_type": "stream",
     "text": [
      "You:  Hi\n"
     ]
    },
    {
     "name": "stdout",
     "output_type": "stream",
     "text": [
      "Bot:  Hello, thanks for visiting\n"
     ]
    },
    {
     "name": "stdin",
     "output_type": "stream",
     "text": [
      "You:  Suggest me a film\n"
     ]
    },
    {
     "name": "stdout",
     "output_type": "stream",
     "text": [
      "Bot:  Okay, do you have any preferences, like year of release or genre?\n"
     ]
    },
    {
     "name": "stdin",
     "output_type": "stream",
     "text": [
      "You:  What movie to watch?\n"
     ]
    },
    {
     "name": "stdout",
     "output_type": "stream",
     "text": [
      "Bot:  From what year or genre?\n"
     ]
    },
    {
     "name": "stdin",
     "output_type": "stream",
     "text": [
      "You:  Can you help me to choose the movie?\n"
     ]
    },
    {
     "name": "stdout",
     "output_type": "stream",
     "text": [
      "Bot:  Okay, do you have any preferences, like year of release or genre?\n"
     ]
    },
    {
     "name": "stdin",
     "output_type": "stream",
     "text": [
      "You:  2001\n"
     ]
    },
    {
     "name": "stdout",
     "output_type": "stream",
     "text": [
      "Bot: Here is a movie for you to watch: title: 千と千尋の神隠し, date of release: 2001-07-20, genres: ['Animation', 'Family', 'Fantasy'].\n",
      "Bot: If you want another one, just type a genre or a year.\n"
     ]
    },
    {
     "name": "stdin",
     "output_type": "stream",
     "text": [
      "You:  2022\n"
     ]
    },
    {
     "name": "stdout",
     "output_type": "stream",
     "text": [
      "Bot: Here is a movie for you to watch: title: Luck, date of release: 2022-08-05, genres: ['Adventure', 'Animation', 'Comedy', 'Fantasy'].\n",
      "Bot: If you want another one, just type a genre or a year.\n"
     ]
    },
    {
     "name": "stdin",
     "output_type": "stream",
     "text": [
      "You:  Fantasy\n"
     ]
    },
    {
     "name": "stdout",
     "output_type": "stream",
     "text": [
      "Bot: Here is a movie for you to watch: title: Soul, date of release: 2020-12-25, genres: ['Animation', 'Comedy', 'Drama', 'Family', 'Fantasy'].\n",
      "Bot: If you want another one, just type a genre or a year.\n"
     ]
    },
    {
     "name": "stdin",
     "output_type": "stream",
     "text": [
      "You:  Drama\n"
     ]
    },
    {
     "name": "stdout",
     "output_type": "stream",
     "text": [
      "Bot: Here is a movie for you to watch: title: Kolejne 365 dni, date of release: 2022-08-19, genres: ['Drama', 'Romance'].\n",
      "Bot: If you want another one, just type a genre or a year.\n"
     ]
    },
    {
     "name": "stdin",
     "output_type": "stream",
     "text": [
      "You:  Thanks\n"
     ]
    },
    {
     "name": "stdout",
     "output_type": "stream",
     "text": [
      "Bot:  My pleasure\n"
     ]
    },
    {
     "name": "stdin",
     "output_type": "stream",
     "text": [
      "You:  Thank you\n"
     ]
    },
    {
     "name": "stdout",
     "output_type": "stream",
     "text": [
      "Bot:  Happy to help!\n"
     ]
    },
    {
     "name": "stdin",
     "output_type": "stream",
     "text": [
      "You:  Thank u\n"
     ]
    },
    {
     "name": "stdout",
     "output_type": "stream",
     "text": [
      "Bot:  Happy to help!\n"
     ]
    },
    {
     "name": "stdin",
     "output_type": "stream",
     "text": [
      "You:  Thats helpful\n"
     ]
    },
    {
     "name": "stdout",
     "output_type": "stream",
     "text": [
      "Bot:  My pleasure\n"
     ]
    },
    {
     "name": "stdin",
     "output_type": "stream",
     "text": [
      "You:  Bye\n"
     ]
    },
    {
     "name": "stdout",
     "output_type": "stream",
     "text": [
      "Bot:  See you later, thanks for visiting\n"
     ]
    },
    {
     "name": "stdin",
     "output_type": "stream",
     "text": [
      "You:  Goodbye\n"
     ]
    },
    {
     "name": "stdout",
     "output_type": "stream",
     "text": [
      "Bot:  See you later, thanks for visiting\n"
     ]
    },
    {
     "name": "stdin",
     "output_type": "stream",
     "text": [
      "You:  quit\n"
     ]
    }
   ],
   "source": [
    "chat()"
   ]
  },
  {
   "cell_type": "markdown",
   "id": "7dc58843-0238-43b0-acb1-6d3d8a8a6136",
   "metadata": {
    "tags": []
   },
   "source": [
    "## **Part E: Evaluate results**"
   ]
  },
  {
   "cell_type": "markdown",
   "id": "a358c77d-db7a-48ed-aa5a-5e4e68e23bca",
   "metadata": {},
   "source": [
    "After carrying the tests of the chat, there are some conclusions that could be drawn from them:\n",
    "1. Works well with defined data. Undoubtedly, the bot works well, if the data that user types does not distinguish from the data in the dataset. But, if the user changes some words into synonyms, there could be some problems in understanding the context, so the responses sometimes could be different to expected, depends on how much the defined sentence differs from the one user has typed.\n",
    "2. Works well with enough number of epochs. For the chat bot testing the number of epochs was between 10 and 1000. From 500 to 1000 the bot was able to consistently give correct responses to the user inputs with no clear difference between 500 and 1000 epochs. However, it is clear that up to 500 the ability of the bot to respond with the correct response increases. It is clearly seen at 10 epochs when the bot was not able to find correct response for simple “hi” message.\n",
    "3. Stemming words sometimes leads to the wrong response been selected by the bot. For example, when typing word “Hey” it is expected that the bot will respond with a random “greeting” from the dataset. However even if adding “hey” to the patterns in the dataset the bot is still not able to respond with a greeting. This is likely because the word “hey” is converted to “he” and this makes the probability of other tags higher than the greeting tag.  However, with epochs number more that 500 the bot is able to respond to it correctly. \n",
    "\n",
    "Also, there are some ways of how to improve the chatbot:\n",
    "1. Enlarge the dataset. It would be great to use a larger dataset (increase the current one or use a different one), as the bot will know more examples of human language, and would be able to process more complex sentences.\n",
    "2. Add more options for patterns and responses. If another existing dataset is not been used, the current one will be great to improve, by adding more examples of user’s probable input and more options of responses for a bot to choose from.\n",
    "3. Add more criteria to choose from when looking for a movie. Currently now, the bot can suggest a movie only by two criteria: genre and year of release, and for that it uses API. However, adding a possibility to give bot more criteria like finding a movie by actor, country etc., will in a great addition to improve the program.\n",
    "4. Search by two or more criteria. Moreover, searching by two or more criteria will help bot to suggest more specific movies depends on user’s preferences, like finding a film by year of release and country. This will decrease the scale of probable movies and will return a movie that is much closer to user’s needs.\n",
    "5. Change stemming to lemmatization. Sometimes, stemming could cut words in such way, that it will lose its meaning, when lemmatization is mainly cutting the word to its basic form focusing on context. For instance, if the user inputs word “carrying”, stemming will cut the word to the “car”, which is completely different from the actual meaning.\n",
    "6. Generate responses except of using pre-defined. Using pre-defined responses is not so bad in chatbots, however, if the chatbot will be able to generate its own responses, it will feel way more realistic, like user is talking to the real person.\n",
    "7. Create UI. Undoubtedly, user interface will help users to better understand how to communicate with chatbot. UI should be easy and understandable, so the user could intuitively know what they should do and where to type their requests.\n",
    "\n",
    "Overall, I am confident that the bot is fairly accurate in its responses and is able to get a correct response in 80% of the user input if using the bot as intended. However, if the user intentionally tries break the bot, it is still able to get a good response in more than 50% of the user inputs. In many cases where the intent of the user input is not defined in the dataset the bot just chooses to recommend a random movie which works as an interim solution. Obviously not what the user wanted but still kind of works suggesting a movie for a user. I think this should be fine for a prototype but can surely be improved if I had more time. I believe that I have solved the stated problem, I was able to create a chat bot that is able to recommend a movie based on year or genre. The movie is selected randomly so chance of recommending the same movie is very slim and was not seen while testing. The bot was tested by me personally as well as some of my family and friends and I received good feedback saying the bot was able to recommend them a movie and was able to accurately respond to their questions most of the time. One of the suggestions was to be able to select the language of the movie, some users received recommendations of films not in English. Also, one of the feedback was that it was recommending movies randomly but should instead be picking from the one with highest rating or most popular once, as some of the movies suggested by a bot were not particularly good films. "
   ]
  },
  {
   "cell_type": "markdown",
   "id": "7a960d26",
   "metadata": {},
   "source": [
    "## **References**"
   ]
  },
  {
   "cell_type": "markdown",
   "id": "2630133f",
   "metadata": {},
   "source": [
    "1. Drift (no date). An introduction to AI chatbots. Available from: https://www.drift.com/learn/chatbot/ai-chatbots/. [Accessed 04 December 2022]\n",
    "2. Engati. Simply intelligent (2022). 6 types of chatbots - Which is best for your business? Available from: https://www.engati.com/blog/types-of-chatbots-and-their-applications. [Acessed 04 December 2022]\n",
    "3. Psymbolic Staff (2019). 7 Common AI Techniques Used in Chatbots. Available from: https://www.psymbolic.com/7-common-ai-techniques-used-in-chatbots/. [Accessed 04 December 2022]\n",
    "4. Code Academy (no date). Generative Chatbots. Available from: https://www.codecademy.com/learn/deep-learning-and-generative-chatbots/modules/generative-chatbots/cheatsheet. [Accessed 05 December 2022]\n",
    "5. Fainchtein, L. (2020). Generative vs Retrieval Based Chatbots: A Quick Guide. Available from: https://blog.cloudboost.io/generative-vs-retrieval-based-chatbots-a-quick-guide-8d19edb1d645. [Accessed 05 December 2022]\n",
    "6. Visor AI (2021). How Does Machine Learning Work in AI Chatbots? Available from: https://www.visor.ai/blog/machine-learning-ml-ai-chatbots/. [Accessed 05 December 2022]\n",
    "7. Clarke, D. (2018). Three AI technologies that could make chatbots intelligent. Available from: https://medium.com/hackernoon/three-ai-technologies-that-could-make-chatbots-intelligent-10f8c6e8b4b0. [Accessed 05 December 2022]\n",
    "8. Jestin, I. (2022). A simple chatbot using Python and NLTK. Available from: https://medium.com/analytics-vidhya/a-simple-chatbot-using-python-and-nltk-c413b40e9441. [Accessed 07 December 2022]\n",
    "9. Clarke, M. (2022). How to perform tokenization in NLP with NLTK and Python. Available from: https://practicaldatascience.co.uk/machine-learning/how-to-perform-tokenization-in-nlp-with-nltk-and-python. [Accessed 09 December 2022]\n",
    "10. Analytics Vidhya (2022). Stemming vs Lemmatization in NLP: Must-Know Differences. Available from: https://www.analyticsvidhya.com/blog/2022/06/stemming-vs-lemmatization-in-nlp-must-know-differences/. [Accessed 09 December 2022]\n",
    "11. Bitext (2021). What is the difference between stemming and lemmatization? Available from: [Accessed 09 December 2022]\n",
    "12. Menzli, A. (2022). Tokenization in NLP: Types, Challenges, Examples, Tools. Available from: https://neptune.ai/blog/tokenization-in-nlp. [Accessed 10 December 2022]\n",
    "13. Marshall, C. (2019). What is named entity recognition (NER) and how can I use it? Available from: https://medium.com/mysuperai/what-is-named-entity-recognition-ner-and-how-can-i-use-it-2b68cf6f545d. [Accessed 11 December 2022]\n",
    "14. Neupane, P. (2020). Understanding text classification in NLP. Available from: https://www.analyticsvidhya.com/blog/2020/12/understanding-text-classification-in-nlp-with-movie-review-example-example/. [Accessed 15 December 2022]\n",
    "15. Kimanzi, V. (2022). Creating ChatBot Using Natural Language Processing in Python. Available from: https://www.section.io/engineering-education/creating-chatbot-using-natural-language-processing-in-python/. [Accessed 20 December 2022]\n",
    "16. Maseem, M. (2022). How To Make A Chatbot In Python? Available from: https://www.edureka.co/blog/how-to-make-a-chatbot-in-python/. [Accessed 03 January 2023]\n",
    "17. Savaram, R. (2022). Manual Testing Tutorial for Beginners. Available from: https://mindmajix.com/manual-testing-tutorial. [Accessed 03 January 2023]\n",
    "14. TechWithTim. Programming Tech Tutorials (no date). Simple AI chatbot. Available from: https://www.techwithtim.net/tutorials/ai-chatbot/part-4/. [Accessed 20 December 2022]"
   ]
  }
 ],
 "metadata": {
  "kernelspec": {
   "display_name": "Python 3 (ipykernel)",
   "language": "python",
   "name": "python3"
  },
  "language_info": {
   "codemirror_mode": {
    "name": "ipython",
    "version": 3
   },
   "file_extension": ".py",
   "mimetype": "text/x-python",
   "name": "python",
   "nbconvert_exporter": "python",
   "pygments_lexer": "ipython3",
   "version": "3.7.15"
  }
 },
 "nbformat": 4,
 "nbformat_minor": 5
}
